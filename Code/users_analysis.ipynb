{
 "cells": [
  {
   "cell_type": "code",
   "execution_count": 1,
   "metadata": {},
   "outputs": [],
   "source": [
    "import numpy as np\n",
    "import pandas as pd"
   ]
  },
  {
   "cell_type": "code",
   "execution_count": 2,
   "metadata": {},
   "outputs": [],
   "source": [
    "data_aug = pd.read_csv('augmentedReviewsCSV.csv')\n",
    "data_org = pd.read_csv('preReviewsCSV.csv')"
   ]
  },
  {
   "cell_type": "code",
   "execution_count": 3,
   "metadata": {},
   "outputs": [],
   "source": [
    "# users = data_org['reviewerID']\n",
    "# labels = data_org['label']"
   ]
  },
  {
   "cell_type": "code",
   "execution_count": 13,
   "metadata": {},
   "outputs": [
    {
     "name": "stdout",
     "output_type": "stream",
     "text": [
      "788468/788469\r"
     ]
    }
   ],
   "source": [
    "users = {}\n",
    "labels = {0:[], 1:[]}\n",
    "for i, row in data_org.iterrows():\n",
    "    print(f\"{i}/{len(data_org)}\", end='\\r')\n",
    "    user = row['reviewerID']\n",
    "    label = row['label']\n",
    "    if user in users:\n",
    "        users[user][label] = users[user].get(label, 0) + 1\n",
    "    else:\n",
    "        users[user] = {0:0, 1:0}\n",
    "        users[user][label] = users[user].get(label, 0) + 1\n",
    "    \n",
    "    labels[label].append(user)\n",
    "\n",
    "    "
   ]
  },
  {
   "cell_type": "code",
   "execution_count": 14,
   "metadata": {},
   "outputs": [
    {
     "data": {
      "text/plain": [
       "(780168, 8301, 32670, 7116)"
      ]
     },
     "execution_count": 14,
     "metadata": {},
     "output_type": "execute_result"
    }
   ],
   "source": [
    "len(labels[0]), len(labels[1]), len(set(labels[0])), len(set(labels[1]))"
   ]
  },
  {
   "cell_type": "code",
   "execution_count": 19,
   "metadata": {},
   "outputs": [
    {
     "name": "stdout",
     "output_type": "stream",
     "text": [
      "No. of people who writes both fake and real reviews: 4357\n",
      "No. of people who writes only fake reviews: 2759\n",
      "No. of people who writes only real reviews: 28313\n",
      "Number of unique reviewers: 35429\n"
     ]
    }
   ],
   "source": [
    "cnt1 = 0\n",
    "cnt2 = 0\n",
    "cnt3 = 0\n",
    "for k,v in users.items():\n",
    "    if v[0] > 0 and v[1] > 0:\n",
    "        # print(k, v)\n",
    "        cnt1 += 1\n",
    "    elif v[0] == 0 and v[1] > 0:\n",
    "        # print(k, v)\n",
    "        cnt2 += 1\n",
    "    elif v[0] > 0 and v[1] == 0:\n",
    "        # print(k, v)\n",
    "        cnt3 += 1\n",
    "print(f\"No. of people who writes both fake and real reviews: {cnt1}\")\n",
    "print(f\"No. of people who writes only fake reviews: {cnt2}\")\n",
    "print(f\"No. of people who writes only real reviews: {cnt3}\")\n",
    "print(f\"Number of unique reviewers: {len(users)}\")\n"
   ]
  },
  {
   "cell_type": "code",
   "execution_count": 25,
   "metadata": {},
   "outputs": [],
   "source": [
    "from collections import Counter\n",
    "\n",
    "f1 = Counter(labels[1])\n",
    "f0 = Counter(labels[0])\n"
   ]
  },
  {
   "cell_type": "code",
   "execution_count": 29,
   "metadata": {},
   "outputs": [
    {
     "name": "stdout",
     "output_type": "stream",
     "text": [
      "Numer of fake reviews per user\n"
     ]
    },
    {
     "data": {
      "text/plain": [
       "[('MmjsOA1lytQB3DRPNFiHSA', 13),\n",
       " ('ICj_Xdd2hZW7N54adNzrwg', 13),\n",
       " ('kEw61RQmY_AsNF6Ht1c3Tg', 9),\n",
       " ('6vyczFcQyt76RzSNGgatxQ', 9),\n",
       " ('gsQlYlrvVxw9Vkr6xUOQTg', 8),\n",
       " ('4WMg5sHZ-rDza67ZKnLXow', 8),\n",
       " ('GbKWOUGwVsHE5jQ-hhL6xA', 7),\n",
       " ('wOze8SxK3BKzwXxsGPhyjQ', 7),\n",
       " ('9_ME--bvyZStdz6iwGzMCw', 7),\n",
       " ('OaRTQVgLIBAvEIU23anXdw', 7)]"
      ]
     },
     "execution_count": 29,
     "metadata": {},
     "output_type": "execute_result"
    }
   ],
   "source": [
    "print(\"Numer of fake reviews per user\")\n",
    "sorted(f1.items(), key=lambda x: x[1], reverse=True)[:10]"
   ]
  },
  {
   "cell_type": "code",
   "execution_count": 30,
   "metadata": {},
   "outputs": [
    {
     "name": "stdout",
     "output_type": "stream",
     "text": [
      "Numer of real reviews per user\n"
     ]
    },
    {
     "data": {
      "text/plain": [
       "[('Xj0O2l0bp633ebmG468aZw', 2622),\n",
       " ('m07sy7eLtOjVdZ8oN9JKag', 2211),\n",
       " ('4SJS_m-JXc0oASx6x5Mjkw', 2163),\n",
       " ('_BHTC7nyCBoZcfiiD5cOXg', 2111),\n",
       " ('om5ZiponkpRqUNa3pVPiRg', 2085),\n",
       " ('EiwxlbR8fb68lMgEXhcWKA', 2031),\n",
       " ('1xJwMqmvVXPwY7yEVQIc-A', 1901),\n",
       " ('ZYZNcugF3xUEGyLOVGiZ0Q', 1843),\n",
       " ('G5LXEaxhQMF_BVjNHkVr7g', 1795),\n",
       " ('OapLWhQI4_Gm32-nYbHmUA', 1717)]"
      ]
     },
     "execution_count": 30,
     "metadata": {},
     "output_type": "execute_result"
    }
   ],
   "source": [
    "print(\"Numer of real reviews per user\")\n",
    "sorted(f0.items(), key=lambda x: x[1], reverse=True)[:10]"
   ]
  },
  {
   "cell_type": "code",
   "execution_count": 31,
   "metadata": {},
   "outputs": [
    {
     "data": {
      "text/plain": [
       "Index(['date', 'reviewID', 'reviewerID', 'reviewContent', 'rating',\n",
       "       'usefulCount', 'coolCount', 'funnyCount', 'flagged', 'restaurantID',\n",
       "       'label', 'doc_embeddings', 'Polarity'],\n",
       "      dtype='object')"
      ]
     },
     "execution_count": 31,
     "metadata": {},
     "output_type": "execute_result"
    }
   ],
   "source": [
    "data_org.columns"
   ]
  }
 ],
 "metadata": {
  "kernelspec": {
   "display_name": "env",
   "language": "python",
   "name": "python3"
  },
  "language_info": {
   "codemirror_mode": {
    "name": "ipython",
    "version": 3
   },
   "file_extension": ".py",
   "mimetype": "text/x-python",
   "name": "python",
   "nbconvert_exporter": "python",
   "pygments_lexer": "ipython3",
   "version": "3.8.10"
  }
 },
 "nbformat": 4,
 "nbformat_minor": 2
}
