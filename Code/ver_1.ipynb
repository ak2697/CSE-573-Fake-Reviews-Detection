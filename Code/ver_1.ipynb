{
 "cells": [
  {
   "cell_type": "code",
   "execution_count": 1,
   "metadata": {},
   "outputs": [
    {
     "name": "stderr",
     "output_type": "stream",
     "text": [
      "[nltk_data] Downloading package stopwords to /home/gaurav/nltk_data...\n",
      "[nltk_data]   Package stopwords is already up-to-date!\n"
     ]
    }
   ],
   "source": [
    "import pandas as pd\n",
    "import numpy as np\n",
    "import matplotlib.pyplot as plt\n",
    "import seaborn as sns\n",
    "import nltk\n",
    "from nltk.corpus import stopwords\n",
    "\n",
    "nltk.download('stopwords')\n",
    "import string\n",
    "import math\n",
    "from sklearn.feature_extraction.text import TfidfVectorizer\n",
    "from sklearn.model_selection import train_test_split\n",
    "from sklearn.metrics import accuracy_score, confusion_matrix, classification_report\n",
    "%matplotlib inline"
   ]
  },
  {
   "cell_type": "code",
   "execution_count": 2,
   "metadata": {},
   "outputs": [],
   "source": [
    "def get_data(path, augmented = False):\n",
    "    if augmented:\n",
    "        df = pd.read_csv(path)\n",
    "        df.dropna(subset=['reviewContent', 'label'], inplace=True)\n",
    "        return df\n",
    "    df = pd.read_csv(path)\n",
    "    df.dropna(subset=['reviewContent', 'label'], inplace=True)\n",
    "    df1 = df[df.label == 1]\n",
    "    df2 = df[df.label == 0].sample(n=df1.shape[0], random_state=1)\n",
    "    new_df = pd.concat([df1, df2], ignore_index=True)\n",
    "\n",
    "    data = new_df.sample(frac=1, random_state=2)\n",
    "    return data"
   ]
  },
  {
   "cell_type": "code",
   "execution_count": 3,
   "metadata": {},
   "outputs": [],
   "source": [
    "# data = get_data('preReviewsCSV.csv', augmented=False)\n",
    "data = get_data('augmentedReviewsCSV.csv', augmented=True)\n",
    "# data = get_data('newCSV.csv', augmented=True)"
   ]
  },
  {
   "cell_type": "code",
   "execution_count": 4,
   "metadata": {},
   "outputs": [],
   "source": [
    "def text_process(text):\n",
    "    nopunc = [char for char in text if char not in string.punctuation]\n",
    "    nopunc = ''.join(nopunc)\n",
    "    return [word for word in nopunc.split() if word.lower() not in stopwords.words('english')]"
   ]
  },
  {
   "cell_type": "code",
   "execution_count": 5,
   "metadata": {},
   "outputs": [
    {
     "name": "stdout",
     "output_type": "stream",
     "text": [
      "(93493,) (93493,)\n",
      "0    torn mavin rate placeso ill give dinner party ...\n",
      "1    good food �nice present �excel servic � come h...\n",
      "2    doug sausag jedi mani place wait get long  pla...\n",
      "3    im pig sleep with place place never buy someth...\n",
      "4    eschew hourlong wait hell kitchen companion de...\n",
      "Name: reviewContent, dtype: object\n",
      "0    1\n",
      "1    1\n",
      "2    1\n",
      "3    1\n",
      "4    0\n",
      "Name: label, dtype: int64\n"
     ]
    }
   ],
   "source": [
    "x = data['reviewContent']\n",
    "y = data['label']\n",
    "print(x.shape, y.shape)\n",
    "print(x.head())\n",
    "print(y.head())"
   ]
  },
  {
   "cell_type": "code",
   "execution_count": 6,
   "metadata": {},
   "outputs": [
    {
     "data": {
      "text/plain": [
       "Series([], Name: reviewContent, dtype: object)"
      ]
     },
     "execution_count": 6,
     "metadata": {},
     "output_type": "execute_result"
    }
   ],
   "source": [
    "x[x.isna()]"
   ]
  },
  {
   "cell_type": "markdown",
   "metadata": {},
   "source": [
    "Takes 2m 30s seconds"
   ]
  },
  {
   "cell_type": "code",
   "execution_count": 7,
   "metadata": {},
   "outputs": [
    {
     "name": "stdout",
     "output_type": "stream",
     "text": [
      "Len of vocab: 50\n"
     ]
    }
   ],
   "source": [
    "vocab = TfidfVectorizer(analyzer = text_process, max_features = 1000).fit(x)\n",
    "print(f\"Len of vocab: {len(vocab.vocabulary_)}\")"
   ]
  },
  {
   "cell_type": "markdown",
   "metadata": {},
   "source": [
    "Takes 2m 30s seconds"
   ]
  },
  {
   "cell_type": "code",
   "execution_count": 8,
   "metadata": {},
   "outputs": [
    {
     "name": "stdout",
     "output_type": "stream",
     "text": [
      "Shape of x: (93493, 50)\n",
      "Non zero elements in x: 796799\n",
      "Density of x: 17.045104981121582\n"
     ]
    }
   ],
   "source": [
    "x = vocab.transform(x)\n",
    "print(f\"Shape of x: {x.shape}\")\n",
    "\n",
    "print(f\"Non zero elements in x: {x.nnz}\")\n",
    "\n",
    "print(f\"Density of x: {x.nnz / (x.shape[0] * x.shape[1]) * 100}\")"
   ]
  },
  {
   "cell_type": "code",
   "execution_count": 9,
   "metadata": {},
   "outputs": [],
   "source": [
    "import pickle"
   ]
  },
  {
   "cell_type": "code",
   "execution_count": 10,
   "metadata": {},
   "outputs": [],
   "source": [
    "with open('./Baselines/data/vectorizer_x.pkl', 'wb') as file:\n",
    "    pickle.dump(x, file)\n",
    "with open('./Baselines/data/vectorizer_y_label.pkl', 'wb') as file:\n",
    "    pickle.dump(y, file)"
   ]
  },
  {
   "cell_type": "code",
   "execution_count": 11,
   "metadata": {},
   "outputs": [],
   "source": [
    "with open('./Baselines/data/vectorizer_x.pkl', 'rb') as file:\n",
    "    x = pickle.load(file)\n",
    "with open('./Baselines/data/vectorizer_y_label.pkl', 'rb') as file:\n",
    "    y = pickle.load(file)"
   ]
  },
  {
   "cell_type": "code",
   "execution_count": 30,
   "metadata": {},
   "outputs": [
    {
     "name": "stdout",
     "output_type": "stream",
     "text": [
      "(93493, 50) (93493,)\n"
     ]
    }
   ],
   "source": [
    "print(x.shape, y.shape)"
   ]
  },
  {
   "cell_type": "code",
   "execution_count": 13,
   "metadata": {},
   "outputs": [],
   "source": [
    "x_train, x_test, y_train, y_test = train_test_split(x, y, test_size=0.2, random_state=1)"
   ]
  },
  {
   "cell_type": "markdown",
   "metadata": {},
   "source": [
    "Takes 3 mins"
   ]
  },
  {
   "cell_type": "code",
   "execution_count": 14,
   "metadata": {},
   "outputs": [
    {
     "name": "stdout",
     "output_type": "stream",
     "text": [
      "Accuracy: 0.8737900422482485\n",
      "Confusion Matrix\n",
      "[[8433  855]\n",
      " [1505 7906]]\n",
      "Classification Report\n",
      "              precision    recall  f1-score   support\n",
      "\n",
      "           0       0.85      0.91      0.88      9288\n",
      "           1       0.90      0.84      0.87      9411\n",
      "\n",
      "    accuracy                           0.87     18699\n",
      "   macro avg       0.88      0.87      0.87     18699\n",
      "weighted avg       0.88      0.87      0.87     18699\n",
      "\n"
     ]
    }
   ],
   "source": [
    "from sklearn.ensemble import RandomForestClassifier\n",
    "rmfr = RandomForestClassifier()\n",
    "rmfr.fit(x_train, y_train)\n",
    "predrmfr = rmfr.predict(x_test)\n",
    "\n",
    "print(f\"Accuracy: {accuracy_score(y_test, predrmfr)}\")\n",
    "\n",
    "print(\"Confusion Matrix\")\n",
    "print(confusion_matrix(y_test, predrmfr))\n",
    "print(\"Classification Report\")\n",
    "print(classification_report(y_test, predrmfr))"
   ]
  },
  {
   "cell_type": "code",
   "execution_count": 15,
   "metadata": {},
   "outputs": [
    {
     "name": "stdout",
     "output_type": "stream",
     "text": [
      "Accuracy: 0.8168886036686454\n",
      "Confusion Matrix\n",
      "[[7147 2141]\n",
      " [1283 8128]]\n",
      "Classification Report\n",
      "              precision    recall  f1-score   support\n",
      "\n",
      "           0       0.85      0.77      0.81      9288\n",
      "           1       0.79      0.86      0.83      9411\n",
      "\n",
      "    accuracy                           0.82     18699\n",
      "   macro avg       0.82      0.82      0.82     18699\n",
      "weighted avg       0.82      0.82      0.82     18699\n",
      "\n"
     ]
    }
   ],
   "source": [
    "from sklearn.neighbors import KNeighborsClassifier\n",
    "knn = KNeighborsClassifier()\n",
    "knn.fit(x_train, y_train)\n",
    "predknn = knn.predict(x_test)\n",
    "\n",
    "print(f\"Accuracy: {accuracy_score(y_test, predknn)}\")\n",
    "\n",
    "print(\"Confusion Matrix\")\n",
    "print(confusion_matrix(y_test, predknn))\n",
    "print(\"Classification Report\")\n",
    "print(classification_report(y_test, predknn))"
   ]
  },
  {
   "cell_type": "code",
   "execution_count": 16,
   "metadata": {},
   "outputs": [
    {
     "name": "stdout",
     "output_type": "stream",
     "text": [
      "Accuracy: 0.8105781057810578\n",
      "Confusion Matrix\n",
      "[[8037 1251]\n",
      " [2291 7120]]\n",
      "Classification Report\n",
      "              precision    recall  f1-score   support\n",
      "\n",
      "           0       0.78      0.87      0.82      9288\n",
      "           1       0.85      0.76      0.80      9411\n",
      "\n",
      "    accuracy                           0.81     18699\n",
      "   macro avg       0.81      0.81      0.81     18699\n",
      "weighted avg       0.81      0.81      0.81     18699\n",
      "\n"
     ]
    }
   ],
   "source": [
    "from sklearn.linear_model import LogisticRegression\n",
    "lr = LogisticRegression(solver='liblinear', random_state=1)\n",
    "lr.fit(x_train, y_train)\n",
    "predlr = lr.predict(x_test)\n",
    "\n",
    "print(f\"Accuracy: {accuracy_score(y_test, predlr)}\")\n",
    "\n",
    "print(\"Confusion Matrix\")\n",
    "print(confusion_matrix(y_test, predlr))\n",
    "print(\"Classification Report\")\n",
    "print(classification_report(y_test, predlr))"
   ]
  },
  {
   "cell_type": "code",
   "execution_count": 17,
   "metadata": {},
   "outputs": [],
   "source": [
    "import torch\n",
    "import torch.nn as nn"
   ]
  },
  {
   "cell_type": "code",
   "execution_count": 18,
   "metadata": {},
   "outputs": [],
   "source": [
    "class NeuralNetworkModel(nn.Module):\n",
    "    def __init__(self, input_shape):\n",
    "        super(NeuralNetworkModel, self).__init__()\n",
    "        self.input_shape = input_shape\n",
    "        self.model = nn.Sequential(\n",
    "            nn.Linear(self.input_shape, 128),\n",
    "            nn.ReLU(),\n",
    "            nn.Linear(128, 64),\n",
    "            nn.ReLU(),\n",
    "            nn.Linear(64, 64),\n",
    "            nn.ReLU(),\n",
    "            nn.Linear(64, 1),\n",
    "            nn.Sigmoid()\n",
    "        )\n",
    "    def forward(self, x):\n",
    "        return self.model(x)"
   ]
  },
  {
   "cell_type": "code",
   "execution_count": 19,
   "metadata": {},
   "outputs": [
    {
     "data": {
      "text/plain": [
       "device(type='cuda')"
      ]
     },
     "execution_count": 19,
     "metadata": {},
     "output_type": "execute_result"
    }
   ],
   "source": [
    "device = torch.device('cuda' if torch.cuda.is_available() else 'cpu')\n",
    "device"
   ]
  },
  {
   "cell_type": "code",
   "execution_count": 20,
   "metadata": {},
   "outputs": [
    {
     "data": {
      "text/plain": [
       "(scipy.sparse._csr.csr_matrix, torch._C._TensorMeta)"
      ]
     },
     "execution_count": 20,
     "metadata": {},
     "output_type": "execute_result"
    }
   ],
   "source": [
    "type(x_train), type(torch.Tensor)"
   ]
  },
  {
   "cell_type": "code",
   "execution_count": 21,
   "metadata": {},
   "outputs": [],
   "source": [
    "from torch.utils.data import Dataset, DataLoader"
   ]
  },
  {
   "cell_type": "code",
   "execution_count": 22,
   "metadata": {},
   "outputs": [
    {
     "data": {
      "text/plain": [
       "((74794, 50), (74794,), scipy.sparse._csr.csr_matrix)"
      ]
     },
     "execution_count": 22,
     "metadata": {},
     "output_type": "execute_result"
    }
   ],
   "source": [
    "x_train.shape, y_train.shape, type(x_train)"
   ]
  },
  {
   "cell_type": "code",
   "execution_count": 23,
   "metadata": {},
   "outputs": [],
   "source": [
    "class ReviewsDataset(Dataset):\n",
    "    def __init__(self, x, y):\n",
    "        self.x = x\n",
    "        self.y = y.to_numpy()\n",
    "    def __len__(self):\n",
    "        return len(self.y)\n",
    "    def __getitem__(self, idx):\n",
    "        self.x_item = torch.tensor(self.x[idx].toarray().reshape(-1,), dtype = torch.float32)\n",
    "        self.y_item = torch.tensor(self.y[idx], dtype = torch.float32)\n",
    "        return self.x_item, self.y_item"
   ]
  },
  {
   "cell_type": "code",
   "execution_count": 24,
   "metadata": {},
   "outputs": [],
   "source": [
    "BATCHSIZE = 512"
   ]
  },
  {
   "cell_type": "code",
   "execution_count": 25,
   "metadata": {},
   "outputs": [],
   "source": [
    "train_dataset = ReviewsDataset(x_train, y_train)\n",
    "train_dataloader = DataLoader(train_dataset, batch_size=BATCHSIZE, shuffle=True)\n",
    "val_dataset = ReviewsDataset(x_test, y_test)\n",
    "val_dataloader = DataLoader(val_dataset, batch_size=BATCHSIZE, shuffle=True)"
   ]
  },
  {
   "cell_type": "code",
   "execution_count": 26,
   "metadata": {},
   "outputs": [],
   "source": [
    "from tqdm import tqdm"
   ]
  },
  {
   "cell_type": "code",
   "execution_count": 33,
   "metadata": {},
   "outputs": [
    {
     "name": "stderr",
     "output_type": "stream",
     "text": [
      "  0%|          | 0/25 [00:00<?, ?it/s]"
     ]
    },
    {
     "name": "stdout",
     "output_type": "stream",
     "text": [
      "Epoch: 0\n",
      "-------\n",
      "Looked at 6132/74794 sampless\r"
     ]
    },
    {
     "name": "stderr",
     "output_type": "stream",
     "text": [
      "  4%|▍         | 1/25 [00:03<01:25,  3.55s/it]"
     ]
    },
    {
     "name": "stdout",
     "output_type": "stream",
     "text": [
      "\n",
      "Train loss: 0.68712 | Test loss: 0.66957, Test acc: 0.68%\n",
      "\n",
      "Epoch: 1\n",
      "-------\n",
      "Looked at 6132/74794 sampless\r"
     ]
    },
    {
     "name": "stderr",
     "output_type": "stream",
     "text": [
      "  8%|▊         | 2/25 [00:07<01:20,  3.49s/it]"
     ]
    },
    {
     "name": "stdout",
     "output_type": "stream",
     "text": [
      "\n",
      "Train loss: 0.59575 | Test loss: 0.49834, Test acc: 0.79%\n",
      "\n",
      "Epoch: 2\n",
      "-------\n",
      "Looked at 6132/74794 sampless\r"
     ]
    },
    {
     "name": "stderr",
     "output_type": "stream",
     "text": [
      " 12%|█▏        | 3/25 [00:10<01:15,  3.45s/it]"
     ]
    },
    {
     "name": "stdout",
     "output_type": "stream",
     "text": [
      "\n",
      "Train loss: 0.44356 | Test loss: 0.42068, Test acc: 0.80%\n",
      "\n",
      "Epoch: 3\n",
      "-------\n",
      "Looked at 6132/74794 sampless\r"
     ]
    },
    {
     "name": "stderr",
     "output_type": "stream",
     "text": [
      " 16%|█▌        | 4/25 [00:14<01:13,  3.51s/it]"
     ]
    },
    {
     "name": "stdout",
     "output_type": "stream",
     "text": [
      "\n",
      "Train loss: 0.40880 | Test loss: 0.40559, Test acc: 0.81%\n",
      "\n",
      "Epoch: 4\n",
      "-------\n",
      "Looked at 6132/74794 sampless\r"
     ]
    },
    {
     "name": "stderr",
     "output_type": "stream",
     "text": [
      " 20%|██        | 5/25 [00:17<01:10,  3.51s/it]"
     ]
    },
    {
     "name": "stdout",
     "output_type": "stream",
     "text": [
      "\n",
      "Train loss: 0.39722 | Test loss: 0.39869, Test acc: 0.81%\n",
      "\n",
      "Epoch: 5\n",
      "-------\n",
      "Looked at 6132/74794 sampless\r"
     ]
    },
    {
     "name": "stderr",
     "output_type": "stream",
     "text": [
      " 24%|██▍       | 6/25 [00:20<01:06,  3.50s/it]"
     ]
    },
    {
     "name": "stdout",
     "output_type": "stream",
     "text": [
      "\n",
      "Train loss: 0.39199 | Test loss: 0.39230, Test acc: 0.81%\n",
      "\n",
      "Epoch: 6\n",
      "-------\n",
      "Looked at 6132/74794 sampless\r"
     ]
    },
    {
     "name": "stderr",
     "output_type": "stream",
     "text": [
      " 28%|██▊       | 7/25 [00:24<01:03,  3.50s/it]"
     ]
    },
    {
     "name": "stdout",
     "output_type": "stream",
     "text": [
      "\n",
      "Train loss: 0.38725 | Test loss: 0.38953, Test acc: 0.81%\n",
      "\n",
      "Epoch: 7\n",
      "-------\n",
      "Looked at 6132/74794 sampless\r"
     ]
    },
    {
     "name": "stderr",
     "output_type": "stream",
     "text": [
      " 32%|███▏      | 8/25 [00:28<00:59,  3.50s/it]"
     ]
    },
    {
     "name": "stdout",
     "output_type": "stream",
     "text": [
      "\n",
      "Train loss: 0.38488 | Test loss: 0.38612, Test acc: 0.81%\n",
      "\n",
      "Epoch: 8\n",
      "-------\n",
      "Looked at 6132/74794 sampless\r"
     ]
    },
    {
     "name": "stderr",
     "output_type": "stream",
     "text": [
      " 36%|███▌      | 9/25 [00:31<00:55,  3.49s/it]"
     ]
    },
    {
     "name": "stdout",
     "output_type": "stream",
     "text": [
      "\n",
      "Train loss: 0.38248 | Test loss: 0.38421, Test acc: 0.81%\n",
      "\n",
      "Epoch: 9\n",
      "-------\n",
      "Looked at 6132/74794 sampless\r"
     ]
    },
    {
     "name": "stderr",
     "output_type": "stream",
     "text": [
      " 40%|████      | 10/25 [00:35<00:52,  3.52s/it]"
     ]
    },
    {
     "name": "stdout",
     "output_type": "stream",
     "text": [
      "\n",
      "Train loss: 0.37955 | Test loss: 0.38235, Test acc: 0.81%\n",
      "\n",
      "Epoch: 10\n",
      "-------\n",
      "Looked at 6132/74794 sampless\r"
     ]
    },
    {
     "name": "stderr",
     "output_type": "stream",
     "text": [
      " 44%|████▍     | 11/25 [00:38<00:48,  3.50s/it]"
     ]
    },
    {
     "name": "stdout",
     "output_type": "stream",
     "text": [
      "\n",
      "Train loss: 0.37793 | Test loss: 0.38163, Test acc: 0.81%\n",
      "\n",
      "Epoch: 11\n",
      "-------\n",
      "Looked at 6132/74794 sampless\r"
     ]
    },
    {
     "name": "stderr",
     "output_type": "stream",
     "text": [
      " 48%|████▊     | 12/25 [00:41<00:45,  3.50s/it]"
     ]
    },
    {
     "name": "stdout",
     "output_type": "stream",
     "text": [
      "\n",
      "Train loss: 0.37657 | Test loss: 0.37998, Test acc: 0.81%\n",
      "\n",
      "Epoch: 12\n",
      "-------\n",
      "Looked at 6132/74794 sampless\r"
     ]
    },
    {
     "name": "stderr",
     "output_type": "stream",
     "text": [
      " 52%|█████▏    | 13/25 [00:45<00:41,  3.49s/it]"
     ]
    },
    {
     "name": "stdout",
     "output_type": "stream",
     "text": [
      "\n",
      "Train loss: 0.37503 | Test loss: 0.37790, Test acc: 0.82%\n",
      "\n",
      "Epoch: 13\n",
      "-------\n",
      "Looked at 6132/74794 sampless\r"
     ]
    },
    {
     "name": "stderr",
     "output_type": "stream",
     "text": [
      " 56%|█████▌    | 14/25 [00:48<00:38,  3.46s/it]"
     ]
    },
    {
     "name": "stdout",
     "output_type": "stream",
     "text": [
      "\n",
      "Train loss: 0.37404 | Test loss: 0.37722, Test acc: 0.82%\n",
      "\n",
      "Epoch: 14\n",
      "-------\n",
      "Looked at 6132/74794 sampless\r"
     ]
    },
    {
     "name": "stderr",
     "output_type": "stream",
     "text": [
      " 60%|██████    | 15/25 [00:52<00:34,  3.45s/it]"
     ]
    },
    {
     "name": "stdout",
     "output_type": "stream",
     "text": [
      "\n",
      "Train loss: 0.37192 | Test loss: 0.37518, Test acc: 0.82%\n",
      "\n",
      "Epoch: 15\n",
      "-------\n",
      "Looked at 6132/74794 sampless\r"
     ]
    },
    {
     "name": "stderr",
     "output_type": "stream",
     "text": [
      " 64%|██████▍   | 16/25 [00:55<00:31,  3.46s/it]"
     ]
    },
    {
     "name": "stdout",
     "output_type": "stream",
     "text": [
      "\n",
      "Train loss: 0.37212 | Test loss: 0.37492, Test acc: 0.82%\n",
      "\n",
      "Epoch: 16\n",
      "-------\n",
      "Looked at 6132/74794 sampless\r"
     ]
    },
    {
     "name": "stderr",
     "output_type": "stream",
     "text": [
      " 68%|██████▊   | 17/25 [00:59<00:27,  3.43s/it]"
     ]
    },
    {
     "name": "stdout",
     "output_type": "stream",
     "text": [
      "\n",
      "Train loss: 0.37094 | Test loss: 0.37417, Test acc: 0.82%\n",
      "\n",
      "Epoch: 17\n",
      "-------\n",
      "Looked at 6132/74794 sampless\r"
     ]
    },
    {
     "name": "stderr",
     "output_type": "stream",
     "text": [
      " 72%|███████▏  | 18/25 [01:02<00:24,  3.44s/it]"
     ]
    },
    {
     "name": "stdout",
     "output_type": "stream",
     "text": [
      "\n",
      "Train loss: 0.37023 | Test loss: 0.37259, Test acc: 0.82%\n",
      "\n",
      "Epoch: 18\n",
      "-------\n",
      "Looked at 6132/74794 sampless\r"
     ]
    },
    {
     "name": "stderr",
     "output_type": "stream",
     "text": [
      " 76%|███████▌  | 19/25 [01:06<00:20,  3.46s/it]"
     ]
    },
    {
     "name": "stdout",
     "output_type": "stream",
     "text": [
      "\n",
      "Train loss: 0.36830 | Test loss: 0.37231, Test acc: 0.82%\n",
      "\n",
      "Epoch: 19\n",
      "-------\n",
      "Looked at 6132/74794 sampless\r"
     ]
    },
    {
     "name": "stderr",
     "output_type": "stream",
     "text": [
      " 80%|████████  | 20/25 [01:09<00:17,  3.46s/it]"
     ]
    },
    {
     "name": "stdout",
     "output_type": "stream",
     "text": [
      "\n",
      "Train loss: 0.36747 | Test loss: 0.37117, Test acc: 0.82%\n",
      "\n",
      "Epoch: 20\n",
      "-------\n",
      "Looked at 6132/74794 sampless\r"
     ]
    },
    {
     "name": "stderr",
     "output_type": "stream",
     "text": [
      " 84%|████████▍ | 21/25 [01:13<00:13,  3.46s/it]"
     ]
    },
    {
     "name": "stdout",
     "output_type": "stream",
     "text": [
      "\n",
      "Train loss: 0.36878 | Test loss: 0.37024, Test acc: 0.82%\n",
      "\n",
      "Epoch: 21\n",
      "-------\n",
      "Looked at 6132/74794 sampless\r"
     ]
    },
    {
     "name": "stderr",
     "output_type": "stream",
     "text": [
      " 88%|████████▊ | 22/25 [01:16<00:10,  3.48s/it]"
     ]
    },
    {
     "name": "stdout",
     "output_type": "stream",
     "text": [
      "\n",
      "Train loss: 0.36569 | Test loss: 0.36937, Test acc: 0.82%\n",
      "\n",
      "Epoch: 22\n",
      "-------\n",
      "Looked at 6132/74794 sampless\r"
     ]
    },
    {
     "name": "stderr",
     "output_type": "stream",
     "text": [
      " 92%|█████████▏| 23/25 [01:19<00:06,  3.47s/it]"
     ]
    },
    {
     "name": "stdout",
     "output_type": "stream",
     "text": [
      "\n",
      "Train loss: 0.36569 | Test loss: 0.36931, Test acc: 0.82%\n",
      "\n",
      "Epoch: 23\n",
      "-------\n",
      "Looked at 6132/74794 sampless\r"
     ]
    },
    {
     "name": "stderr",
     "output_type": "stream",
     "text": [
      " 96%|█████████▌| 24/25 [01:23<00:03,  3.47s/it]"
     ]
    },
    {
     "name": "stdout",
     "output_type": "stream",
     "text": [
      "\n",
      "Train loss: 0.36437 | Test loss: 0.36933, Test acc: 0.82%\n",
      "\n",
      "Epoch: 24\n",
      "-------\n",
      "Looked at 6132/74794 sampless\r"
     ]
    },
    {
     "name": "stderr",
     "output_type": "stream",
     "text": [
      "100%|██████████| 25/25 [01:26<00:00,  3.48s/it]"
     ]
    },
    {
     "name": "stdout",
     "output_type": "stream",
     "text": [
      "\n",
      "Train loss: 0.36346 | Test loss: 0.36827, Test acc: 0.82%\n",
      "\n"
     ]
    },
    {
     "name": "stderr",
     "output_type": "stream",
     "text": [
      "\n"
     ]
    }
   ],
   "source": [
    "model = NeuralNetworkModel(x_train.shape[1]).to(device)\n",
    "criterion = nn.BCELoss()\n",
    "optimizer = torch.optim.Adam(model.parameters(), lr=0.0001)\n",
    "n_epochs = 25\n",
    "for epoch in tqdm(range(n_epochs)):\n",
    "    print(f\"Epoch: {epoch}\\n-------\")\n",
    "    train_loss = 0\n",
    "    for batch, (x_batch_train, y_batch_train) in enumerate(train_dataloader):\n",
    "        x_batch_train, y_batch_train = x_batch_train.to(device), y_batch_train.to(device)\n",
    "        model.train() \n",
    "        y_pred = model(x_batch_train).squeeze()\n",
    "        # print(y_pred.shape, y_batch_train.shape)\n",
    "        loss = criterion(y_pred, y_batch_train)\n",
    "        train_loss += loss\n",
    "        optimizer.zero_grad()\n",
    "        loss.backward()\n",
    "        optimizer.step()\n",
    "        if batch % 1 == 0:\n",
    "            print(f\"Looked at {batch * len(x_batch_train)}/{len(train_dataloader.dataset)} samples\", end = '\\r')\n",
    "\n",
    "    train_loss /= len(train_dataloader)\n",
    "    \n",
    "    ### Testing\n",
    "    test_loss, test_acc = 0, 0 \n",
    "    model.eval()\n",
    "    with torch.inference_mode():\n",
    "        for x_batch_val, y_batch_val in val_dataloader:\n",
    "            x_batch_val, y_batch_val = x_batch_val.to(device), y_batch_val.to(device)\n",
    "            val_pred = model(x_batch_val).squeeze()\n",
    "            y_pred = val_pred.round()\n",
    "            test_loss += criterion(val_pred, y_batch_val) # accumulatively add up the loss per epoch\n",
    "            test_acc += accuracy_score(y_batch_val.detach().to('cpu'), y_pred.detach().to('cpu'))\n",
    "        \n",
    "        test_loss /= len(val_dataloader)\n",
    "        test_acc /= len(val_dataloader)\n",
    "    print(f\"\\nTrain loss: {train_loss:.5f} | Test loss: {test_loss:.5f}, Test acc: {test_acc:.2f}%\\n\")\n",
    "              "
   ]
  },
  {
   "cell_type": "code",
   "execution_count": 34,
   "metadata": {},
   "outputs": [],
   "source": [
    "from ml_things import plot_confusion_matrix"
   ]
  },
  {
   "cell_type": "code",
   "execution_count": 35,
   "metadata": {},
   "outputs": [
    {
     "name": "stdout",
     "output_type": "stream",
     "text": [
      "Accuracy: 0.8210599497299321\n",
      "              precision    recall  f1-score   support\n",
      "\n",
      "           0       0.79      0.87      0.83      9288\n",
      "           1       0.86      0.77      0.81      9411\n",
      "\n",
      "    accuracy                           0.82     18699\n",
      "   macro avg       0.82      0.82      0.82     18699\n",
      "weighted avg       0.82      0.82      0.82     18699\n",
      "\n",
      "Normalized confusion matrix\n"
     ]
    },
    {
     "data": {
      "image/png": "[encoded data removed]",
      "text/plain": [
       "<Figure size 2880x720 with 2 Axes>"
      ]
     },
     "metadata": {},
     "output_type": "display_data"
    },
    {
     "data": {
      "text/plain": [
       "array([[0.8705857 , 0.1294143 ],\n",
       "       [0.22781851, 0.77218149]])"
      ]
     },
     "execution_count": 35,
     "metadata": {},
     "output_type": "execute_result"
    }
   ],
   "source": [
    "model.eval()\n",
    "all_preds = []\n",
    "all_label_ids = []\n",
    "\n",
    "with torch.inference_mode():\n",
    "    for x_batch_val, y_batch_val in val_dataloader:\n",
    "        x_batch_val, y_batch_val = x_batch_val.to(device), y_batch_val.to(device)\n",
    "        val_pred = model(x_batch_val).squeeze()\n",
    "        y_pred = val_pred.round()\n",
    "\n",
    "        all_preds.extend(y_pred.detach().to('cpu').numpy())\n",
    "        all_label_ids.extend(y_batch_val.detach().to('cpu').numpy())\n",
    "\n",
    "all_preds = np.array(all_preds)\n",
    "all_label_ids = np.array(all_label_ids)\n",
    "\n",
    "print(f\"Accuracy: {accuracy_score(all_label_ids, all_preds)}\")\n",
    "\n",
    "evaluation_report = classification_report(all_label_ids, all_preds, labels=[0, 1])\n",
    "print(evaluation_report)\n",
    "\n",
    "plot_confusion_matrix(y_true=all_label_ids, y_pred=all_preds, \n",
    "                      classes=['Real', 'Fake'], normalize=True, \n",
    "                      magnify=0.1,\n",
    "                      )"
   ]
  }
 ],
 "metadata": {
  "kernelspec": {
   "display_name": "env",
   "language": "python",
   "name": "python3"
  },
  "language_info": {
   "codemirror_mode": {
    "name": "ipython",
    "version": 3
   },
   "file_extension": ".py",
   "mimetype": "text/x-python",
   "name": "python",
   "nbconvert_exporter": "python",
   "pygments_lexer": "ipython3",
   "version": "3.8.10"
  }
 },
 "nbformat": 4,
 "nbformat_minor": 2
}
